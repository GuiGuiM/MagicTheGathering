{
 "cells": [
  {
   "cell_type": "code",
   "execution_count": 21,
   "metadata": {},
   "outputs": [],
   "source": [
    "import os\n",
    "import pandas as pd\n",
    "from mtgsdk import Card\n"
   ]
  },
  {
   "cell_type": "code",
   "execution_count": 9,
   "metadata": {},
   "outputs": [],
   "source": [
    "files = os.listdir('./Data')\n",
    "df = pd.DataFrame()\n",
    "\n",
    "for file in files: \n",
    "    df = pd.concat([pd.read_csv('./Data/' + file), df])\n",
    "    \n",
    "df['dates'] = pd.to_datetime(df['dates'], format=\"%d.%m.%Y\")"
   ]
  },
  {
   "cell_type": "code",
   "execution_count": 12,
   "metadata": {},
   "outputs": [
    {
     "data": {
      "image/png": "[encoded data removed]",
      "text/plain": [
       "<Figure size 1080x360 with 1 Axes>"
      ]
     },
     "metadata": {
      "needs_background": "light"
     },
     "output_type": "display_data"
    }
   ],
   "source": [
    "df.set_index('dates').resample('D')['prices'].count().plot(figsize=(15,5), title='counts of prices over time');"
   ]
  },
  {
   "cell_type": "code",
   "execution_count": 14,
   "metadata": {},
   "outputs": [
    {
     "data": {
      "text/plain": [
       "320"
      ]
     },
     "execution_count": 14,
     "metadata": {},
     "output_type": "execute_result"
    }
   ],
   "source": [
    "df[df['dates'] <= '2019-01-01'].shape[0] # Only 320 values before jan 2019"
   ]
  },
  {
   "cell_type": "code",
   "execution_count": 19,
   "metadata": {},
   "outputs": [
    {
     "data": {
      "text/plain": [
       "0.09903100775193799"
      ]
     },
     "execution_count": 19,
     "metadata": {},
     "output_type": "execute_result"
    }
   ],
   "source": [
    "df[df['dates'] <= '2020-01-01'].shape[0] / df.shape[0] # 1/10 of the values are before jan 2020 "
   ]
  },
  {
   "cell_type": "code",
   "execution_count": 20,
   "metadata": {},
   "outputs": [
    {
     "data": {
      "text/plain": [
       "count    1776.000000\n",
       "mean        0.368994\n",
       "std         0.518592\n",
       "min         0.029007\n",
       "25%         0.120452\n",
       "50%         0.190658\n",
       "75%         0.382974\n",
       "max         6.444471\n",
       "Name: prices, dtype: float64"
      ]
     },
     "execution_count": 20,
     "metadata": {},
     "output_type": "execute_result"
    }
   ],
   "source": [
    "df.groupby('card')['prices'].std().describe() # 1776 total cards and their std of price "
   ]
  },
  {
   "cell_type": "code",
   "execution_count": 24,
   "metadata": {},
   "outputs": [
    {
     "data": {
      "text/html": [
       "<div>\n",
       "<style scoped>\n",
       "    .dataframe tbody tr th:only-of-type {\n",
       "        vertical-align: middle;\n",
       "    }\n",
       "\n",
       "    .dataframe tbody tr th {\n",
       "        vertical-align: top;\n",
       "    }\n",
       "\n",
       "    .dataframe thead th {\n",
       "        text-align: right;\n",
       "    }\n",
       "</style>\n",
       "<table border=\"1\" class=\"dataframe\">\n",
       "  <thead>\n",
       "    <tr style=\"text-align: right;\">\n",
       "      <th></th>\n",
       "      <th>dates</th>\n",
       "      <th>prices</th>\n",
       "      <th>card</th>\n",
       "      <th>expansion</th>\n",
       "    </tr>\n",
       "  </thead>\n",
       "  <tbody>\n",
       "    <tr>\n",
       "      <th>0</th>\n",
       "      <td>2020-03-26</td>\n",
       "      <td>1.64</td>\n",
       "      <td>Acorn-Catapult</td>\n",
       "      <td>Commander</td>\n",
       "    </tr>\n",
       "    <tr>\n",
       "      <th>1</th>\n",
       "      <td>2020-03-28</td>\n",
       "      <td>1.00</td>\n",
       "      <td>Acorn-Catapult</td>\n",
       "      <td>Commander</td>\n",
       "    </tr>\n",
       "    <tr>\n",
       "      <th>2</th>\n",
       "      <td>2020-04-01</td>\n",
       "      <td>0.47</td>\n",
       "      <td>Acorn-Catapult</td>\n",
       "      <td>Commander</td>\n",
       "    </tr>\n",
       "    <tr>\n",
       "      <th>3</th>\n",
       "      <td>2020-04-08</td>\n",
       "      <td>1.49</td>\n",
       "      <td>Acorn-Catapult</td>\n",
       "      <td>Commander</td>\n",
       "    </tr>\n",
       "    <tr>\n",
       "      <th>4</th>\n",
       "      <td>2020-04-14</td>\n",
       "      <td>1.00</td>\n",
       "      <td>Acorn-Catapult</td>\n",
       "      <td>Commander</td>\n",
       "    </tr>\n",
       "    <tr>\n",
       "      <th>...</th>\n",
       "      <td>...</td>\n",
       "      <td>...</td>\n",
       "      <td>...</td>\n",
       "      <td>...</td>\n",
       "    </tr>\n",
       "    <tr>\n",
       "      <th>1195</th>\n",
       "      <td>2020-04-18</td>\n",
       "      <td>22.97</td>\n",
       "      <td>Loyal-Retainers</td>\n",
       "      <td>Commanders-Arsenal</td>\n",
       "    </tr>\n",
       "    <tr>\n",
       "      <th>1196</th>\n",
       "      <td>2020-04-28</td>\n",
       "      <td>22.99</td>\n",
       "      <td>Loyal-Retainers</td>\n",
       "      <td>Commanders-Arsenal</td>\n",
       "    </tr>\n",
       "    <tr>\n",
       "      <th>1197</th>\n",
       "      <td>2020-04-29</td>\n",
       "      <td>22.99</td>\n",
       "      <td>Loyal-Retainers</td>\n",
       "      <td>Commanders-Arsenal</td>\n",
       "    </tr>\n",
       "    <tr>\n",
       "      <th>1198</th>\n",
       "      <td>2020-05-06</td>\n",
       "      <td>23.99</td>\n",
       "      <td>Loyal-Retainers</td>\n",
       "      <td>Commanders-Arsenal</td>\n",
       "    </tr>\n",
       "    <tr>\n",
       "      <th>1199</th>\n",
       "      <td>2020-05-12</td>\n",
       "      <td>22.00</td>\n",
       "      <td>Loyal-Retainers</td>\n",
       "      <td>Commanders-Arsenal</td>\n",
       "    </tr>\n",
       "  </tbody>\n",
       "</table>\n",
       "<p>77400 rows × 4 columns</p>\n",
       "</div>"
      ],
      "text/plain": [
       "          dates  prices             card           expansion\n",
       "0    2020-03-26    1.64   Acorn-Catapult           Commander\n",
       "1    2020-03-28    1.00   Acorn-Catapult           Commander\n",
       "2    2020-04-01    0.47   Acorn-Catapult           Commander\n",
       "3    2020-04-08    1.49   Acorn-Catapult           Commander\n",
       "4    2020-04-14    1.00   Acorn-Catapult           Commander\n",
       "...         ...     ...              ...                 ...\n",
       "1195 2020-04-18   22.97  Loyal-Retainers  Commanders-Arsenal\n",
       "1196 2020-04-28   22.99  Loyal-Retainers  Commanders-Arsenal\n",
       "1197 2020-04-29   22.99  Loyal-Retainers  Commanders-Arsenal\n",
       "1198 2020-05-06   23.99  Loyal-Retainers  Commanders-Arsenal\n",
       "1199 2020-05-12   22.00  Loyal-Retainers  Commanders-Arsenal\n",
       "\n",
       "[77400 rows x 4 columns]"
      ]
     },
     "execution_count": 24,
     "metadata": {},
     "output_type": "execute_result"
    }
   ],
   "source": [
    "df"
   ]
  },
  {
   "cell_type": "code",
   "execution_count": 34,
   "metadata": {},
   "outputs": [],
   "source": [
    "card_names = df['card'].apply(lambda x: x.replace('-', ' ')).unique()"
   ]
  },
  {
   "cell_type": "code",
   "execution_count": null,
   "metadata": {},
   "outputs": [],
   "source": [
    "%%time \n",
    "\n",
    "card_obj_vals100 = [Card.where(name=name).all() for name in card_names[:100]]"
   ]
  },
  {
   "cell_type": "code",
   "execution_count": null,
   "metadata": {},
   "outputs": [],
   "source": []
  }
 ],
 "metadata": {
  "kernelspec": {
   "display_name": "Python 3",
   "language": "python",
   "name": "python3"
  },
  "language_info": {
   "codemirror_mode": {
    "name": "ipython",
    "version": 3
   },
   "file_extension": ".py",
   "mimetype": "text/x-python",
   "name": "python",
   "nbconvert_exporter": "python",
   "pygments_lexer": "ipython3",
   "version": "3.7.6"
  }
 },
 "nbformat": 4,
 "nbformat_minor": 4
}
